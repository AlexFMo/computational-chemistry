{
  "nbformat": 4,
  "nbformat_minor": 0,
  "metadata": {
    "colab": {
      "provenance": [],
      "toc_visible": true,
      "authorship_tag": "ABX9TyPEIvAGcum6MujsF9laUNUX",
      "include_colab_link": true
    },
    "kernelspec": {
      "name": "python3",
      "display_name": "Python 3"
    },
    "language_info": {
      "name": "python"
    }
  },
  "cells": [
    {
      "cell_type": "markdown",
      "metadata": {
        "id": "view-in-github",
        "colab_type": "text"
      },
      "source": [
        "<a href=\"https://colab.research.google.com/github/AlexFMo/computational-chemistry/blob/main/DFT_Workshops.ipynb\" target=\"_parent\"><img src=\"https://colab.research.google.com/assets/colab-badge.svg\" alt=\"Open In Colab\"/></a>"
      ]
    },
    {
      "cell_type": "markdown",
      "source": [
        "# **Density Functional Theory with ASE and GPAW**\n",
        "\n",
        "Interactive hands-on tutorial on how to use Density Functional Theory (DFT). It enables the student to run basic DFT calculations using the Atomic Simulation Environment (ASE) in conjunction with the DFT code GPAW. Originally taught as a guest lecture at Stanford University in course ME420 Advanced Electrochemistry.\n",
        "\n",
        "Tutorial by Peter Schindler, Ph.D.\n",
        "\n",
        "https://peterschindler.github.io/\n",
        "\n",
        "\n"
      ],
      "metadata": {
        "id": "fhfkbXXaaZtQ"
      }
    },
    {
      "cell_type": "markdown",
      "source": [
        "## **Installation, GPAW and ASE**"
      ],
      "metadata": {
        "id": "R8YBUmYvq04g"
      }
    },
    {
      "cell_type": "code",
      "source": [
        "!pip install ase==3.23.0"
      ],
      "metadata": {
        "colab": {
          "base_uri": "https://localhost:8080/"
        },
        "id": "6JsL7_fB_ATC",
        "outputId": "16e31a08-93d3-4d7d-d8f2-c873c9e2773c"
      },
      "execution_count": 1,
      "outputs": [
        {
          "output_type": "stream",
          "name": "stdout",
          "text": [
            "Collecting ase==3.23.0\n",
            "  Downloading ase-3.23.0-py3-none-any.whl.metadata (3.8 kB)\n",
            "Requirement already satisfied: numpy>=1.18.5 in /usr/local/lib/python3.11/dist-packages (from ase==3.23.0) (1.26.4)\n",
            "Requirement already satisfied: scipy>=1.6.0 in /usr/local/lib/python3.11/dist-packages (from ase==3.23.0) (1.13.1)\n",
            "Requirement already satisfied: matplotlib>=3.3.4 in /usr/local/lib/python3.11/dist-packages (from ase==3.23.0) (3.10.0)\n",
            "Requirement already satisfied: contourpy>=1.0.1 in /usr/local/lib/python3.11/dist-packages (from matplotlib>=3.3.4->ase==3.23.0) (1.3.1)\n",
            "Requirement already satisfied: cycler>=0.10 in /usr/local/lib/python3.11/dist-packages (from matplotlib>=3.3.4->ase==3.23.0) (0.12.1)\n",
            "Requirement already satisfied: fonttools>=4.22.0 in /usr/local/lib/python3.11/dist-packages (from matplotlib>=3.3.4->ase==3.23.0) (4.56.0)\n",
            "Requirement already satisfied: kiwisolver>=1.3.1 in /usr/local/lib/python3.11/dist-packages (from matplotlib>=3.3.4->ase==3.23.0) (1.4.8)\n",
            "Requirement already satisfied: packaging>=20.0 in /usr/local/lib/python3.11/dist-packages (from matplotlib>=3.3.4->ase==3.23.0) (24.2)\n",
            "Requirement already satisfied: pillow>=8 in /usr/local/lib/python3.11/dist-packages (from matplotlib>=3.3.4->ase==3.23.0) (11.1.0)\n",
            "Requirement already satisfied: pyparsing>=2.3.1 in /usr/local/lib/python3.11/dist-packages (from matplotlib>=3.3.4->ase==3.23.0) (3.2.1)\n",
            "Requirement already satisfied: python-dateutil>=2.7 in /usr/local/lib/python3.11/dist-packages (from matplotlib>=3.3.4->ase==3.23.0) (2.8.2)\n",
            "Requirement already satisfied: six>=1.5 in /usr/local/lib/python3.11/dist-packages (from python-dateutil>=2.7->matplotlib>=3.3.4->ase==3.23.0) (1.17.0)\n",
            "Downloading ase-3.23.0-py3-none-any.whl (2.9 MB)\n",
            "\u001b[2K   \u001b[90m━━━━━━━━━━━━━━━━━━━━━━━━━━━━━━━━━━━━━━━━\u001b[0m \u001b[32m2.9/2.9 MB\u001b[0m \u001b[31m26.2 MB/s\u001b[0m eta \u001b[36m0:00:00\u001b[0m\n",
            "\u001b[?25hInstalling collected packages: ase\n",
            "Successfully installed ase-3.23.0\n"
          ]
        }
      ]
    },
    {
      "cell_type": "code",
      "source": [
        "!ase info"
      ],
      "metadata": {
        "id": "ShJXndFpix1M",
        "colab": {
          "base_uri": "https://localhost:8080/"
        },
        "outputId": "e8cdca07-9cec-4a06-d172-8d08c9de2242",
        "collapsed": true
      },
      "execution_count": 2,
      "outputs": [
        {
          "output_type": "stream",
          "name": "stdout",
          "text": [
            "platform                 Linux-6.1.85+-x86_64-with-glibc2.35\n",
            "python-3.11.11           /usr/bin/python3\n",
            "ase-3.23.0               /usr/local/lib/python3.11/dist-packages/ase\n",
            "numpy-1.26.4             /usr/local/lib/python3.11/dist-packages/numpy\n",
            "scipy-1.13.1             /usr/local/lib/python3.11/dist-packages/scipy\n",
            "matplotlib-3.10.0        /usr/local/lib/python3.11/dist-packages/matplotlib\n",
            "spglib                   not installed\n",
            "ase_ext                  not installed\n",
            "flask-3.1.0              /usr/local/lib/python3.11/dist-packages/flask\n",
            "psycopg2-2.9.10 (dt dec pq3 ext lo64) /usr/local/lib/python3.11/dist-packages/psycopg2\n",
            "pyamg                    not installed\n"
          ]
        }
      ]
    },
    {
      "cell_type": "code",
      "source": [
        "# %%capture\n",
        "!apt install python3-mpi4py cython3 libxc-dev gpaw-data\n",
        "!pip -q install gpaw pymatgen"
      ],
      "metadata": {
        "id": "w5R2-vQ4kIMu",
        "colab": {
          "base_uri": "https://localhost:8080/"
        },
        "outputId": "50b53470-b25b-4820-b12e-a8998db1e035"
      },
      "execution_count": 5,
      "outputs": [
        {
          "output_type": "stream",
          "name": "stdout",
          "text": [
            "Reading package lists... Done\n",
            "Building dependency tree... Done\n",
            "Reading state information... Done\n",
            "cython3 is already the newest version (0.29.28-1ubuntu3).\n",
            "gpaw-data is already the newest version (0.9.20000-2).\n",
            "libxc-dev is already the newest version (5.1.7-1ubuntu1).\n",
            "python3-mpi4py is already the newest version (3.1.3-1build2).\n",
            "0 upgraded, 0 newly installed, 0 to remove and 21 not upgraded.\n",
            "\u001b[2K   \u001b[90m━━━━━━━━━━━━━━━━━━━━━━━━━━━━━━━━━━━━━━━━\u001b[0m \u001b[32m5.1/5.1 MB\u001b[0m \u001b[31m47.1 MB/s\u001b[0m eta \u001b[36m0:00:00\u001b[0m\n",
            "\u001b[2K   \u001b[90m━━━━━━━━━━━━━━━━━━━━━━━━━━━━━━━━━━━━━━━━\u001b[0m \u001b[32m561.4/561.4 kB\u001b[0m \u001b[31m29.7 MB/s\u001b[0m eta \u001b[36m0:00:00\u001b[0m\n",
            "\u001b[2K   \u001b[90m━━━━━━━━━━━━━━━━━━━━━━━━━━━━━━━━━━━━━━━━\u001b[0m \u001b[32m58.3/58.3 kB\u001b[0m \u001b[31m4.4 MB/s\u001b[0m eta \u001b[36m0:00:00\u001b[0m\n",
            "\u001b[?25h"
          ]
        }
      ]
    },
    {
      "cell_type": "code",
      "source": [
        "!gpaw info"
      ],
      "metadata": {
        "id": "ISU_2LNKihng",
        "collapsed": true,
        "colab": {
          "base_uri": "https://localhost:8080/"
        },
        "outputId": "8d7ecb17-7e3b-4652-be1e-24473c7e67f0"
      },
      "execution_count": 6,
      "outputs": [
        {
          "output_type": "stream",
          "name": "stdout",
          "text": [
            " -------------------------------------------------------------------------------------------------\n",
            "| python-3.11.11    /usr/bin/python3                                                              |\n",
            "| gpaw-25.1.0       /usr/local/lib/python3.11/dist-packages/gpaw/                                 |\n",
            "| ase-3.23.0        /usr/local/lib/python3.11/dist-packages/ase/                                  |\n",
            "| numpy-1.26.4      /usr/local/lib/python3.11/dist-packages/numpy/                                |\n",
            "| scipy-1.13.1      /usr/local/lib/python3.11/dist-packages/scipy/                                |\n",
            "| libxc-5.1.7       yes                                                                           |\n",
            "| _gpaw             /usr/local/lib/python3.11/dist-packages/_gpaw.cpython-311-x86_64-linux-gnu.so |\n",
            "| MPI enabled       yes                                                                           |\n",
            "| OpenMP enabled    no                                                                            |\n",
            "| GPU enabled       no                                                                            |\n",
            "| GPU-aware MPI     no                                                                            |\n",
            "| cupy-fake         /usr/local/lib/python3.11/dist-packages/gpaw/gpu/cpupy/__init__.py            |\n",
            "| scalapack         no                                                                            |\n",
            "| Elpa              no                                                                            |\n",
            "| FFTW              no                                                                            |\n",
            "| libvdwxc          no                                                                            |\n",
            "| PAW-datasets (1)  /usr/local/share/gpaw-setups                                                  |\n",
            "| PAW-datasets (2)  /usr/share/gpaw-setups                                                        |\n",
            " -------------------------------------------------------------------------------------------------\n"
          ]
        }
      ]
    },
    {
      "cell_type": "markdown",
      "source": [
        "## **Code**"
      ],
      "metadata": {
        "id": "Dk-j82Z9qoR9"
      }
    },
    {
      "cell_type": "code",
      "source": [
        "from ase import Atoms #The Atoms object is used to define and work with atomic structure in ASE\n",
        "from ase.io import read, write #The ase.io module is used to read |and write crystal/molecular structure files\n",
        "from gpaw import GPAW, PW #GPAW will be our main DFT calculator and PW is the plane wave mode"
      ],
      "metadata": {
        "id": "mhQ7IhHMa5bl"
      },
      "execution_count": 8,
      "outputs": []
    },
    {
      "cell_type": "markdown",
      "source": [
        "### Create an atomic structure"
      ],
      "metadata": {
        "id": "gJ7DIcpwbGc8"
      }
    },
    {
      "cell_type": "code",
      "source": [
        "h2 = Atoms('H2', [(0, 0, 0), (0, 0, 0.74)])\n",
        "h2.center(vacuum=2.5)"
      ],
      "metadata": {
        "id": "oxxKTfK8a5vM"
      },
      "execution_count": 11,
      "outputs": []
    },
    {
      "cell_type": "code",
      "source": [
        "write('h2.cif', h2)"
      ],
      "metadata": {
        "id": "CEBr9koTbOEY"
      },
      "execution_count": 12,
      "outputs": []
    },
    {
      "cell_type": "code",
      "source": [
        "print(h2.cell)\n",
        "print()\n",
        "print(h2.positions)"
      ],
      "metadata": {
        "id": "KRjmoaeLbONA",
        "colab": {
          "base_uri": "https://localhost:8080/"
        },
        "outputId": "69fe2720-5476-4bad-91ab-3401fa742640"
      },
      "execution_count": 13,
      "outputs": [
        {
          "output_type": "stream",
          "name": "stdout",
          "text": [
            "Cell([5.0, 5.0, 5.74])\n",
            "\n",
            "[[2.5  2.5  2.5 ]\n",
            " [2.5  2.5  3.24]]\n"
          ]
        }
      ]
    },
    {
      "cell_type": "markdown",
      "source": [
        "### Set GPAW calculator"
      ],
      "metadata": {
        "id": "18iscZyKbUzT"
      }
    },
    {
      "cell_type": "code",
      "source": [
        "calc = GPAW(xc='LDA',\n",
        "            kpts=(1,1,1),\n",
        "            mode=PW(500),\n",
        "            txt='h2.txt')"
      ],
      "metadata": {
        "id": "luIxM3WWbOTM"
      },
      "execution_count": 14,
      "outputs": []
    },
    {
      "cell_type": "code",
      "source": [
        "h2.set_calculator(calc)"
      ],
      "metadata": {
        "id": "MWxeSrwaa55A",
        "colab": {
          "base_uri": "https://localhost:8080/"
        },
        "outputId": "2760eaf3-febf-4141-f4d8-a5294fcd9b17"
      },
      "execution_count": 15,
      "outputs": [
        {
          "output_type": "stream",
          "name": "stderr",
          "text": [
            "<ipython-input-15-d75296235496>:1: DeprecationWarning: Please use atoms.calc = calc\n",
            "  h2.set_calculator(calc)\n"
          ]
        }
      ]
    },
    {
      "cell_type": "markdown",
      "source": [
        "### Evaluate Properties"
      ],
      "metadata": {
        "id": "_T3THC2qbkMk"
      }
    },
    {
      "cell_type": "code",
      "source": [
        "print(h2.get_potential_energy())"
      ],
      "metadata": {
        "id": "zMZ-GRalbhRi",
        "colab": {
          "base_uri": "https://localhost:8080/"
        },
        "outputId": "c12326f0-2d0e-40c7-99aa-d94a731b4a3a"
      },
      "execution_count": 16,
      "outputs": [
        {
          "output_type": "stream",
          "name": "stdout",
          "text": [
            "-6.7317890739894475\n"
          ]
        }
      ]
    },
    {
      "cell_type": "code",
      "source": [
        "result = h2.get_potential_energy()\n",
        "result"
      ],
      "metadata": {
        "id": "KxMUYCWvbhcc",
        "colab": {
          "base_uri": "https://localhost:8080/"
        },
        "outputId": "5e2e5798-c065-4e26-c68a-0b0dc0c53263"
      },
      "execution_count": 17,
      "outputs": [
        {
          "output_type": "execute_result",
          "data": {
            "text/plain": [
              "-6.7317890739894475"
            ]
          },
          "metadata": {},
          "execution_count": 17
        }
      ]
    },
    {
      "cell_type": "code",
      "source": [],
      "metadata": {
        "id": "DPFrYnjkbhjW"
      },
      "execution_count": null,
      "outputs": []
    },
    {
      "cell_type": "markdown",
      "source": [
        "### Testing for energy cutoff convergence"
      ],
      "metadata": {
        "id": "gzAUQpvi5waD"
      }
    },
    {
      "cell_type": "code",
      "source": [
        "import time"
      ],
      "metadata": {
        "id": "64X2TDO36AmB"
      },
      "execution_count": 19,
      "outputs": []
    },
    {
      "cell_type": "code",
      "source": [
        "cutoffs = [200,300,400,500,1000]\n",
        "times = []\n",
        "energies = []\n",
        "\n",
        "for cutoff in cutoffs:\n",
        "  start_time = time.time()\n",
        "  calc = GPAW(xc='LDA',\n",
        "              kpts=(1,1,1),\n",
        "              mode=PW(cutoff),\n",
        "              txt='h2.txt')\n",
        "  h2.set_calculator(calc)\n",
        "  energies.append(h2.get_potential_energy())\n",
        "  times.append(time.time() - start_time)\n",
        "print(times)  # seconds\n",
        "print(energies)  # eV"
      ],
      "metadata": {
        "id": "EmlBeJwBbhrm",
        "colab": {
          "base_uri": "https://localhost:8080/"
        },
        "outputId": "42589e64-2100-47cd-b11a-36e6cecf7851"
      },
      "execution_count": 20,
      "outputs": [
        {
          "output_type": "stream",
          "name": "stderr",
          "text": [
            "<ipython-input-20-3e6ca28a1769>:11: DeprecationWarning: Please use atoms.calc = calc\n",
            "  h2.set_calculator(calc)\n"
          ]
        },
        {
          "output_type": "stream",
          "name": "stdout",
          "text": [
            "[0.9220402240753174, 1.1491408348083496, 1.706489086151123, 2.6036527156829834, 5.361384153366089]\n",
            "[-6.368370601170564, -6.566280756120176, -6.693834722327357, -6.7317890739894475, -6.750055588974404]\n"
          ]
        }
      ]
    },
    {
      "cell_type": "code",
      "source": [
        "import matplotlib.pyplot as plt\n",
        "\n",
        "f, ax = plt.subplots(2, sharex=True)\n",
        "ax[0].plot(cutoffs, energies)\n",
        "ax[0].set_ylabel('Energy (eV)')\n",
        "ax[0].set_title('Convergence test for H2')\n",
        "\n",
        "ax[1].plot(cutoffs, times)\n",
        "ax[1].set_ylabel('Time (s)')\n",
        "ax[1].set_xlabel('Energy Cutoff (eV)')\n",
        "\n",
        "plt.show()"
      ],
      "metadata": {
        "id": "OYGzEnc7bhzZ",
        "colab": {
          "base_uri": "https://localhost:8080/",
          "height": 472
        },
        "outputId": "2187cda1-d999-4604-c538-0aada2a3f27f"
      },
      "execution_count": 21,
      "outputs": [
        {
          "output_type": "display_data",
          "data": {
            "text/plain": [
              "<Figure size 640x480 with 2 Axes>"
            ],
            "image/png": "[encoded data removed]"
          },
          "metadata": {}
        }
      ]
    },
    {
      "cell_type": "markdown",
      "source": [
        "###Calculating the electron density and plotting a contour plot"
      ],
      "metadata": {
        "id": "QcgMtpwq6wDR"
      }
    },
    {
      "cell_type": "code",
      "source": [
        "import numpy as np\n",
        "\n",
        "n = calc.get_all_electron_density(gridrefinement=4)\n",
        "\n",
        "nred = np.sum(n, axis=0) #sum over density in x-direction\n",
        "#print(np.shape(nred))\n",
        "\n",
        "fig, ax = plt.subplots()\n",
        "ax.contourf(nred)\n",
        "ax.set_xlim([45, 120])\n",
        "ax.set_ylim([35, 110])\n",
        "ax.set_aspect(1)\n",
        "plt.show()"
      ],
      "metadata": {
        "id": "jN9fdqQWbh47",
        "colab": {
          "base_uri": "https://localhost:8080/",
          "height": 435
        },
        "outputId": "4dacfef6-8ddf-48ff-ce81-635972dc5db8"
      },
      "execution_count": null,
      "outputs": [
        {
          "output_type": "display_data",
          "data": {
            "text/plain": [
              "<Figure size 640x480 with 1 Axes>"
            ],
            "image/png": "[encoded data removed]"
          },
          "metadata": {}
        }
      ]
    },
    {
      "cell_type": "markdown",
      "source": [
        "## How to use GPAW to perform basic DFT tasks in Python\n",
        "\n",
        "Dr Sherif Abbas of RMIT\n",
        "\n",
        "https://www.youtube.com/watch?v=KhAtlJCkcZ8&t=2540s\n"
      ],
      "metadata": {
        "id": "EnEPPq1btrTQ"
      }
    },
    {
      "cell_type": "code",
      "source": [
        "from ase import Atoms\n",
        "from gpaw import GPAW\n",
        "from ase.optimize import QuasiNewton\n",
        "# from ase.io import read, write\n"
      ],
      "metadata": {
        "id": "AuUMS0amt1ZN"
      },
      "execution_count": null,
      "outputs": []
    },
    {
      "cell_type": "code",
      "source": [
        "a = 10\n",
        "d = 1.17103\n",
        "\n",
        "CO2 = Atoms('CO2',\n",
        "            positions = [[a/2,a/2,a/2],\n",
        "                         [a/2-d,a/2,a/2],\n",
        "                         [a/2+d,a/2,a/2]],\n",
        "            cell = (a,a,a))"
      ],
      "metadata": {
        "id": "DbhP_YuRt1fl"
      },
      "execution_count": null,
      "outputs": []
    },
    {
      "cell_type": "code",
      "source": [
        "calc_PBE = GPAW(xc='PBE')\n",
        "CO2.set_calculator(calc_PBE)"
      ],
      "metadata": {
        "colab": {
          "base_uri": "https://localhost:8080/"
        },
        "id": "etXF0FIAuzni",
        "outputId": "048ff750-805b-4529-ff39-eceb88317ad3"
      },
      "execution_count": null,
      "outputs": [
        {
          "output_type": "stream",
          "name": "stdout",
          "text": [
            "\n",
            "  ___ ___ ___ _ _ _  \n",
            " |   |   |_  | | | | \n",
            " | | | | | . | | | | \n",
            " |__ |  _|___|_____|  25.1.0\n",
            " |___|_|             \n",
            "\n",
            "User:   ???@fa4a0e578daf\n",
            "Date:   Mon Feb 17 21:09:13 2025\n",
            "Arch:   x86_64\n",
            "Pid:    12896\n",
            "CWD:    /content\n",
            "Python: 3.11.11\n",
            "gpaw:   /usr/local/lib/python3.11/dist-packages/gpaw\n",
            "_gpaw:  /usr/local/lib/python3.11/dist-packages/\n",
            "        _gpaw.cpython-311-x86_64-linux-gnu.so\n",
            "ase:    /usr/local/lib/python3.11/dist-packages/ase (version 3.24.0)\n",
            "numpy:  /usr/local/lib/python3.11/dist-packages/numpy (version 1.26.4)\n",
            "scipy:  /usr/local/lib/python3.11/dist-packages/scipy (version 1.15.2)\n",
            "libxc:  5.1.7\n",
            "units:  Angstrom and eV\n",
            "cores: 1\n",
            "OpenMP: False\n",
            "OMP_NUM_THREADS: 1\n",
            "\n",
            "Input parameters:\n",
            "  xc: PBE\n",
            "\n"
          ]
        },
        {
          "output_type": "stream",
          "name": "stderr",
          "text": [
            "<ipython-input-47-e96ed2262eb3>:2: FutureWarning: Please use atoms.calc = calc\n",
            "  CO2.set_calculator(calc_PBE)\n"
          ]
        }
      ]
    },
    {
      "cell_type": "code",
      "source": [
        "relax = QuasiNewton(CO2)\n",
        "relax.run(fmax=0.05)"
      ],
      "metadata": {
        "colab": {
          "base_uri": "https://localhost:8080/"
        },
        "id": "UwWDd5zFuzsL",
        "outputId": "a7f3161c-f944-49eb-f56d-b2ebb528d16b"
      },
      "execution_count": null,
      "outputs": [
        {
          "output_type": "stream",
          "name": "stdout",
          "text": [
            "System changes: positions, numbers, cell, pbc, initial_charges, initial_magmoms \n",
            "\n",
            "Initialize ...\n",
            "\n",
            "species:\n",
            "  C:\n",
            "    name: Carbon\n",
            "    id: 4aa54d4b901d75f77cc0ea3eec22967b\n",
            "    Z: 6.0\n",
            "    valence: 4\n",
            "    core: 2\n",
            "    charge: 0.0\n",
            "    file: /usr/share/gpaw-setups/C.PBE.gz\n",
            "    compensation charges: {type: gauss,\n",
            "                           rc: 0.20,\n",
            "                           lmax: 2}\n",
            "    cutoffs: {filter: 1.14,\n",
            "              core: 1.14}\n",
            "    projectors:\n",
            "      #              energy  rcut\n",
            "      - 2s(2.00)   -13.751   0.635\n",
            "      - 2p(2.00)    -5.284   0.635\n",
            "      -  s          13.461   0.635\n",
            "      -  p          21.927   0.635\n",
            "      -  d           0.000   0.635\n",
            "  \n",
            "    # Using partial waves for C as LCAO basis\n",
            "\n",
            "  O:\n",
            "    name: Oxygen\n",
            "    id: 32ecd46bf208036f09c70b0ec9a88b78\n",
            "    Z: 8.0\n",
            "    valence: 6\n",
            "    core: 2\n",
            "    charge: 0.0\n",
            "    file: /usr/share/gpaw-setups/O.PBE.gz\n",
            "    compensation charges: {type: gauss,\n",
            "                           rc: 0.21,\n",
            "                           lmax: 2}\n",
            "    cutoffs: {filter: 1.17,\n",
            "              core: 0.83}\n",
            "    projectors:\n",
            "      #              energy  rcut\n",
            "      - 2s(2.00)   -23.961   0.688\n",
            "      - 2p(4.00)    -9.029   0.598\n",
            "      -  s           3.251   0.688\n",
            "      -  p          18.182   0.598\n",
            "      -  d           0.000   0.619\n",
            "  \n",
            "    # Using partial waves for O as LCAO basis\n",
            "\n",
            "Reference energy: -5109.332718  # eV\n",
            "\n",
            "Spin-paired calculation\n",
            "\n",
            "Convergence criteria:\n",
            " Maximum [total energy] change in last 3 cyles: 0.0005 eV / valence electron\n",
            " Maximum integral of absolute [dens]ity change: 0.0001 electrons / valence electron\n",
            " Maximum integral of absolute [eigenst]ate change: 4e-08 eV^2 / valence electron\n",
            " Maximum number of scf [iter]ations: 333\n",
            " (Square brackets indicate name in SCF output, whereas a 'c' in\n",
            " the SCF output indicates the quantity has converged.)\n",
            "\n",
            "Symmetries present (total): 16\n",
            "\n",
            "  ( 1  0  0)  ( 1  0  0)  ( 1  0  0)  ( 1  0  0)  ( 1  0  0)  ( 1  0  0)\n",
            "  ( 0  1  0)  ( 0  1  0)  ( 0  0  1)  ( 0  0  1)  ( 0  0 -1)  ( 0  0 -1)\n",
            "  ( 0  0  1)  ( 0  0 -1)  ( 0  1  0)  ( 0 -1  0)  ( 0  1  0)  ( 0 -1  0)\n",
            "\n",
            "  ( 1  0  0)  ( 1  0  0)  (-1  0  0)  (-1  0  0)  (-1  0  0)  (-1  0  0)\n",
            "  ( 0 -1  0)  ( 0 -1  0)  ( 0  1  0)  ( 0  1  0)  ( 0  0  1)  ( 0  0  1)\n",
            "  ( 0  0  1)  ( 0  0 -1)  ( 0  0  1)  ( 0  0 -1)  ( 0  1  0)  ( 0 -1  0)\n",
            "\n",
            "  (-1  0  0)  (-1  0  0)  (-1  0  0)  (-1  0  0)\n",
            "  ( 0  0 -1)  ( 0  0 -1)  ( 0 -1  0)  ( 0 -1  0)\n",
            "  ( 0  1  0)  ( 0 -1  0)  ( 0  0  1)  ( 0  0 -1)\n",
            "\n",
            "1 k-point (Gamma)\n",
            "1 k-point in the irreducible part of the Brillouin zone\n",
            "       k-points in crystal coordinates                weights\n",
            "   0:     0.00000000    0.00000000    0.00000000          1/1\n",
            "\n",
            "Wave functions: Uniform real-space grid\n",
            "  Kinetic energy operator: 6*3+1=19 point O(h^6) finite-difference Laplacian\n",
            "  ScaLapack parameters: grid=1x1, blocksize=None\n",
            "  Wavefunction extrapolation:\n",
            "    Improved wavefunction reuse through dual PAW basis \n",
            "\n",
            "Occupation numbers: # Zero width \n",
            "\n",
            "Eigensolver\n",
            "   Davidson(niter=2) \n",
            "\n",
            "Densities:\n",
            "  Coarse grid: 48*48*48 grid\n",
            "  Fine grid: 96*96*96 grid\n",
            "  Total Charge: 0.000000 \n",
            "\n",
            "Density mixing:\n",
            "  Method: separate\n",
            "  Backend: pulay\n",
            "  Linear mixing parameter: 0.25\n",
            "  old densities: 3\n",
            "  Damping of long wavelength oscillations: 1  # (no daming) \n",
            "\n"
          ]
        },
        {
          "output_type": "stream",
          "name": "stderr",
          "text": [
            "/usr/local/lib/python3.11/dist-packages/gpaw/calculator.py:744: DeprecatedParameterWarning: Finite-difference mode implicitly chosen; it will be an error to not specify a mode in the future\n",
            "  warnings.warn(\n"
          ]
        },
        {
          "output_type": "stream",
          "name": "stdout",
          "text": [
            "Hamiltonian:\n",
            "  XC and Coulomb potentials evaluated on a 96*96*96 grid\n",
            "  Using the PBE Exchange-Correlation functional\n",
            "  Interpolation: tri-quintic (5. degree polynomial)\n",
            "  Poisson solver: FastPoissonSolver using\n",
            "    Stencil: 6*3+1=19 point O(h^6) finite-difference Laplacian\n",
            "    FFT axes: []\n",
            "    FST axes: [0, 1, 2]\n",
            " \n",
            "\n",
            "XC parameters: PBE with 2 nearest neighbor stencil\n",
            "\n",
            "Memory estimate:\n",
            "  Process memory now: 647.31 MiB\n",
            "  Calculator: 65.02 MiB\n",
            "    Density: 27.82 MiB\n",
            "      Arrays: 21.21 MiB\n",
            "      Localized functions: 1.86 MiB\n",
            "      Mixer: 4.75 MiB\n",
            "    Hamiltonian: 14.01 MiB\n",
            "      Arrays: 13.87 MiB\n",
            "      XC: 0.00 MiB\n",
            "      Poisson: 0.00 MiB\n",
            "      vbar: 0.13 MiB\n",
            "    Wavefunctions: 23.20 MiB\n",
            "      Arrays psit_nG: 9.51 MiB\n",
            "      Eigensolver: 13.48 MiB\n",
            "      Projections: 0.00 MiB\n",
            "      Projectors: 0.21 MiB\n",
            "\n",
            "Total number of cores used: 1\n",
            "\n",
            "Number of atoms: 3\n",
            "Number of atomic orbitals: 12\n",
            "Number of bands in calculation: 12\n",
            "Number of valence electrons: 16\n",
            "Bands to converge: occupied\n",
            "\n",
            "... initialized\n",
            "\n",
            "Initializing position-dependent things.\n",
            "\n",
            "Density initialized from atomic densities\n",
            "Creating initial wave functions:\n",
            "  12 bands from LCAO basis set\n",
            "\n",
            "       .------------------------.  \n",
            "      /|                        |  \n",
            "     / |                        |  \n",
            "    /  |                        |  \n",
            "   /   |                        |  \n",
            "  /    |                        |  \n",
            " *     |                        |  \n",
            " |     |                        |  \n",
            " |     |                        |  \n",
            " |     |      O  C O            |  \n",
            " |     |                        |  \n",
            " |     |                        |  \n",
            " |     .------------------------.  \n",
            " |    /                        /   \n",
            " |   /                        /    \n",
            " |  /                        /     \n",
            " | /                        /      \n",
            " |/                        /       \n",
            " *------------------------*        \n",
            "\n",
            "Positions:\n",
            "   0 C      5.000000    5.000000    5.000000    ( 0.0000,  0.0000,  0.0000)\n",
            "   1 O      3.828970    5.000000    5.000000    ( 0.0000,  0.0000,  0.0000)\n",
            "   2 O      6.171030    5.000000    5.000000    ( 0.0000,  0.0000,  0.0000)\n",
            "\n",
            "Unit cell:\n",
            "           periodic     x           y           z      points  spacing\n",
            "  1. axis:    no    10.000000    0.000000    0.000000    48     0.2083\n",
            "  2. axis:    no     0.000000   10.000000    0.000000    48     0.2083\n",
            "  3. axis:    no     0.000000    0.000000   10.000000    48     0.2083\n",
            "\n",
            "  Lengths:  10.000000  10.000000  10.000000\n",
            "  Angles:   90.000000  90.000000  90.000000\n",
            "\n",
            "Effective grid spacing dv^(1/3) = 0.2083\n",
            "\n",
            "     iter     time        total  log10-change:\n",
            "                         energy   eigst   dens\n",
            "iter:   1 21:09:18   -25.481633\n",
            "iter:   2 21:09:20   -24.266701   +0.56  -0.89\n",
            "iter:   3 21:09:21   -24.095256   +0.11  -1.21\n",
            "iter:   4 21:09:22   -24.046177   -0.41  -1.44\n",
            "iter:   5 21:09:23   -24.042021   -1.37  -1.83\n",
            "iter:   6 21:09:24   -24.034978   -1.71  -2.03\n",
            "iter:   7 21:09:25   -24.035002c  -2.22  -2.70\n",
            "iter:   8 21:09:26   -24.035003c  -2.99  -3.01\n",
            "iter:   9 21:09:27   -24.034984c  -3.52  -3.14\n",
            "iter:  10 21:09:28   -24.034990c  -3.91  -3.50\n",
            "iter:  11 21:09:29   -24.034991c  -4.22  -3.66\n",
            "iter:  12 21:09:31   -24.034993c  -4.60  -4.13c\n",
            "iter:  13 21:09:33   -24.034993c  -4.95  -4.37c\n",
            "iter:  14 21:09:34   -24.034993c  -5.43  -4.53c\n",
            "iter:  15 21:09:35   -24.034993c  -5.76  -4.90c\n",
            "iter:  16 21:09:36   -24.034993c  -6.19  -5.04c\n",
            "iter:  17 21:09:37   -24.034993c  -6.58  -5.20c\n",
            "iter:  18 21:09:38   -24.034993c  -6.92  -5.50c\n",
            "iter:  19 21:09:39   -24.034993c  -7.27  -5.97c\n",
            "iter:  20 21:09:40   -24.034993c  -7.56c -6.18c\n",
            "\n",
            "Converged after 20 iterations.\n",
            "\n",
            "Dipole moment: (-0.000000, -0.000000, -0.000000) |e|*Ang\n",
            "\n",
            "Energy contributions relative to reference atoms: (reference = -5109.332718)\n",
            "\n",
            "Kinetic:        +29.281849\n",
            "Potential:      -34.434791\n",
            "External:        +0.000000\n",
            "XC:             -20.447440\n",
            "Entropy (-ST):   +0.000000\n",
            "Local:           +1.565389\n",
            "SIC:             +0.000000\n",
            "--------------------------\n",
            "Free energy:    -24.034993\n",
            "Extrapolated:   -24.034993\n",
            "\n",
            " Band  Eigenvalues  Occupancy\n",
            "    0    -29.06001    2.00000\n",
            "    1    -28.04039    2.00000\n",
            "    2    -13.83653    2.00000\n",
            "    3    -12.68509    2.00000\n",
            "    4    -12.68149    2.00000\n",
            "    5    -12.68149    2.00000\n",
            "    6     -9.09383    2.00000\n",
            "    7     -9.09383    2.00000\n",
            "    8     -0.87777    0.00000\n",
            "    9     -0.50738    0.00000\n",
            "   10     -0.50738    0.00000\n",
            "   11      1.43897    0.00000\n",
            "\n",
            "Fermi level: -4.98580\n",
            "\n",
            "Gap: 8.216 eV\n",
            "Transition (v -> c):\n",
            "  (s=0, k=0, n=7, [0.00, 0.00, 0.00]) -> (s=0, k=0, n=8, [0.00, 0.00, 0.00])\n",
            "No difference between direct/indirect transitions\n",
            "\n",
            "Forces in eV/Ang:\n",
            "  0 C    -0.00000    0.00000    0.00000\n",
            "  1 O     0.00871   -0.00000    0.00000\n",
            "  2 O    -0.00871    0.00000    0.00000\n",
            "\n",
            "                Step[ FC]     Time          Energy          fmax\n",
            "BFGSLineSearch:    0[  0] 21:09:40      -24.034993       0.0087\n"
          ]
        },
        {
          "output_type": "execute_result",
          "data": {
            "text/plain": [
              "True"
            ]
          },
          "metadata": {},
          "execution_count": 48
        }
      ]
    },
    {
      "cell_type": "code",
      "source": [
        "CO2.get_distance(0,1)"
      ],
      "metadata": {
        "colab": {
          "base_uri": "https://localhost:8080/"
        },
        "id": "Fb66aHb4t1i8",
        "outputId": "53639f8f-d66a-4719-c658-38d25d0508d1"
      },
      "execution_count": null,
      "outputs": [
        {
          "output_type": "execute_result",
          "data": {
            "text/plain": [
              "1.17103"
            ]
          },
          "metadata": {},
          "execution_count": 43
        }
      ]
    },
    {
      "cell_type": "code",
      "source": [],
      "metadata": {
        "id": "tZVUZOEnt9co"
      },
      "execution_count": null,
      "outputs": []
    },
    {
      "cell_type": "code",
      "source": [],
      "metadata": {
        "id": "E3EFjrA6t9hn"
      },
      "execution_count": null,
      "outputs": []
    },
    {
      "cell_type": "code",
      "source": [],
      "metadata": {
        "id": "-_zXuPbRvUn6"
      },
      "execution_count": null,
      "outputs": []
    }
  ]
}