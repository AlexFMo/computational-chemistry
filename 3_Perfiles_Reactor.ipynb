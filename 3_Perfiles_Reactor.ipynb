{
  "nbformat": 4,
  "nbformat_minor": 0,
  "metadata": {
    "colab": {
      "provenance": [],
      "collapsed_sections": [
        "aEM9DYlkFqdi"
      ],
      "include_colab_link": true
    },
    "kernelspec": {
      "name": "python3",
      "display_name": "Python 3"
    }
  },
  "cells": [
    {
      "cell_type": "markdown",
      "metadata": {
        "id": "view-in-github",
        "colab_type": "text"
      },
      "source": [
        "<a href=\"https://colab.research.google.com/github/AlexFMo/computational-chemistry/blob/main/3_Perfiles_Reactor.ipynb\" target=\"_parent\"><img src=\"https://colab.research.google.com/assets/colab-badge.svg\" alt=\"Open In Colab\"/></a>"
      ]
    },
    {
      "cell_type": "markdown",
      "metadata": {
        "id": "Ut-quGCVd-Tz"
      },
      "source": [
        "## **Ecuaciones diferenciales:** para resolver ecuaciones diferenciales ordinarias utilizaremos el modulo SciPy"
      ]
    },
    {
      "cell_type": "markdown",
      "metadata": {
        "id": "jmOo2Fosg0vb"
      },
      "source": [
        "### Resolver la ecuacion diferencial con condiciones iniciales t = 0 s y CA0 = 0.5 M, usando una constante k = 0.2 1/s y hasta t = 30 s. ###\n",
        "\n",
        "$$\\frac{dC_A}{dt} = -kC_A $$"
      ]
    },
    {
      "cell_type": "code",
      "metadata": {
        "id": "tnzkip6ObAcy"
      },
      "source": [
        "#importar modules, libraries, etc\n",
        "import numpy as np\n",
        "from scipy.integrate import odeint\n",
        "import matplotlib.pyplot as plt"
      ],
      "execution_count": null,
      "outputs": []
    },
    {
      "cell_type": "code",
      "metadata": {
        "id": "URtUfeUBd-EA"
      },
      "source": [
        "#es requerido definir una funcion que contenga nuestra ecuacion\n",
        "#REGLA: la variable dependiente se pasa primero, seguido la variable independiente, y finalmente otras constantes\n",
        "def ecuacion(CA, t, k):\n",
        "  dCAdt = -k*CA\n",
        "  return dCAdt"
      ],
      "execution_count": null,
      "outputs": []
    },
    {
      "cell_type": "code",
      "metadata": {
        "id": "huj4d0GzpG6S"
      },
      "source": [
        "#condiciones iniciales\n",
        "CA0 = 0.5\n",
        "#definimos un espacio lineal para nuestra variable t\n",
        "t = np.linspace(0, 30)"
      ],
      "execution_count": null,
      "outputs": []
    },
    {
      "cell_type": "code",
      "metadata": {
        "id": "KKCmiBq1pW15"
      },
      "source": [
        "#constante de reaccion\n",
        "k = 0.2\n",
        "#resolvemos nuestra ecuacion diferencial con odeint\n",
        "CA = odeint(ecuacion, CA0, t, args=(k,))"
      ],
      "execution_count": null,
      "outputs": []
    },
    {
      "cell_type": "code",
      "metadata": {
        "id": "u1V5qqQnpa_a",
        "colab": {
          "base_uri": "https://localhost:8080/",
          "height": 411
        },
        "outputId": "f3647f04-9a86-412f-b7cc-eb099547bcc4"
      },
      "source": [
        "#graficamos nuestros resultados\n",
        "fig = plt.figure(figsize=[4, 4])\n",
        "ax = plt.axes()\n",
        "ax.plot(t, CA, 'b', label='k=0.2')\n",
        "ax.set_xlabel('Tiempo')\n",
        "ax.set_ylabel('CA')\n",
        "ax.legend()\n",
        "plt.title('Concentración vs Tiempo')\n",
        "plt.show()"
      ],
      "execution_count": null,
      "outputs": [
        {
          "output_type": "display_data",
          "data": {
            "text/plain": [
              "<Figure size 400x400 with 1 Axes>"
            ],
            "image/png": "[encoded data removed]"
          },
          "metadata": {}
        }
      ]
    },
    {
      "cell_type": "markdown",
      "metadata": {
        "id": "aEM9DYlkFqdi"
      },
      "source": [
        "### Resolver el sistema de ecuaciones diferenciales con condiciones iniciales t = 0 s, x0 = 5 y y0 = 2, para constantes k1 = 0.5 y k2 = 4, hasta t = 30 s.\n",
        "\n",
        "$$\\frac{dx}{dt} = -x*e^{-k_1*y}$$\n",
        "$$\\frac{dy}{dt} = k_2 - y $$"
      ]
    },
    {
      "cell_type": "code",
      "metadata": {
        "id": "wGMegIHlJMiy"
      },
      "source": [
        "#definir nuestras funciones aqui\n"
      ],
      "execution_count": null,
      "outputs": []
    },
    {
      "cell_type": "code",
      "metadata": {
        "id": "RjWK5qGKJ3Zk"
      },
      "source": [
        "#condiciones iniciales aqui\n",
        "\n",
        "#constantes aqui\n",
        "\n",
        "#espacio lineal tiempo aqui\n"
      ],
      "execution_count": null,
      "outputs": []
    },
    {
      "cell_type": "code",
      "metadata": {
        "id": "OBzEcldvJ-wV"
      },
      "source": [
        "#resolvemos nuestro sistema de ecuaciones aqui\n"
      ],
      "execution_count": null,
      "outputs": []
    },
    {
      "cell_type": "code",
      "metadata": {
        "id": "cbkwV-qbOyxz"
      },
      "source": [
        "#graficar solucion aqui\n"
      ],
      "execution_count": null,
      "outputs": []
    },
    {
      "cell_type": "markdown",
      "metadata": {
        "id": "uhX-nlMYQC4I"
      },
      "source": [
        "### **Ejercicio:** encontrar los perfiles de concentracion de A y B, y el perfil de temperatura del reactor descrito por las ecuaciones diferenciales dadas. Condiciones iniciales son t = 0 min,  CA0 = 0.5 M, T0 = 293 K y CB0 = 0 M. Resolver hasta t = 30 min y las constantes fisicoquimicas estan dadas a continuacion.\n",
        "\n",
        "$$\\frac{dC_A}{dt} = \\frac{F}{V}(C_{A0}-C_A)-k_0C_Ae^{-\\frac{E}{RT}}$$\n",
        "$$\\frac{dC_B}{dt} = -\\frac{F}{V}C_B+k_0C_Ae^{-\\frac{E}{RT}}$$\n",
        "$$\\frac{dT}{dt} = \\frac{F}{V}(T_0-T)-\\frac{\\Delta H}{\\rho c_p}k_0C_Ae^{-\\frac{E}{RT}}-\\frac{UA}{V \\rho c_p}(T-T_c)$$\n",
        "\n",
        "### $ F = 1.0 \\frac{m^3}{min} $\n",
        "### $ V = 8.0 m^3 $\n",
        "### $ k0 = 7.5e14 \\frac{1}{min} $\n",
        "### $ E/R = 9758.3 K $\n",
        "### $ \\Delta H  = -10000 \\frac{J}{mol} $\n",
        "### $ \\rho = 950 \\frac{kg}{m^3} $\n",
        "### $ c_p = 3 \\frac{J}{kgK} $\n",
        "### $ U = 3000 \\frac{J}{m^2Kmin} $\n",
        "### $ A = 5 m^2 $\n",
        "### $ T_c = 278 K $\n"
      ]
    },
    {
      "cell_type": "code",
      "metadata": {
        "id": "xpRrCPuwQAIs"
      },
      "source": [
        "#definimos variables\n",
        "F = 1\n",
        "V = 8\n",
        "k0 = 7.5e14\n",
        "E_R = 9758.3\n",
        "delta_H = -10000\n",
        "rho = 950\n",
        "cp = 3\n",
        "U = 3000\n",
        "A = 5\n",
        "Tc = 278\n",
        "\n",
        "#definimos condiciones iniciales aqui\n",
        "CA0 = 0.5\n",
        "CB0 = 0\n",
        "T0 = 293\n",
        "\n",
        "#definimos nuestras funciones aqui\n",
        "def sistema(s, t, F, V, k0, E_R, delta_H, rho, cp, U, A, Tc):\n",
        "  CA, CB, T = s\n",
        "  dCAdt = F/V*(CA0-CA) - k0*CA*np.exp(-E_R/T)\n",
        "  dCBdt = -F/V*(CB) + k0*CA*np.exp(-E_R/T)\n",
        "  dTdt = F/V*(T0-T) - (delta_H/rho*cp)*k0*CA*np.exp(-E_R/T) - (U*A/V*rho*cp)*(T-Tc)\n",
        "  return [dCAdt, dCBdt, dTdt]"
      ],
      "execution_count": null,
      "outputs": []
    },
    {
      "cell_type": "code",
      "metadata": {
        "id": "2l5WxNzJVpS5"
      },
      "source": [
        "#creamos nuestro espacio lineal para tiempo aqui\n",
        "t = np.linspace(0, 30)\n",
        "\n",
        "#resolvemos nuestro sistema de ecuaciones aqui\n",
        "# solucion = odeint(sistema, [CA0, CB0, T0], L, arg={F, V, k0, E_R, delta_H, rho, cp, U, A, Tc})\n",
        "solucion = odeint(sistema, [CA0, CB0, T0], t, args=(F, V, k0, E_R, delta_H, rho, cp, U, A, Tc))"
      ],
      "execution_count": null,
      "outputs": []
    },
    {
      "cell_type": "code",
      "metadata": {
        "id": "L2wrzQmpV6Vk",
        "colab": {
          "base_uri": "https://localhost:8080/",
          "height": 411
        },
        "outputId": "7c064c11-e9d1-401c-ee16-c789b0192a40"
      },
      "source": [
        "#graficar solucion aqui\n",
        "CA = solucion[:,0]\n",
        "CB = solucion[:,1]\n",
        "T = solucion[:,2]\n",
        "\n",
        "fig =  plt.figure(figsize=[6, 4])\n",
        "ax1 = fig.add_subplot()\n",
        "ax1.plot(t, CA, color='b', label='CA')\n",
        "ax1.plot(t, CB, color='g', label='CB')\n",
        "ax1.set_ylabel('CA / CB')\n",
        "ax1.set_xlabel('Tiempo')\n",
        "ax1.legend()\n",
        "plt.title('Concentración vs Tiempo')\n",
        "plt.show()\n"
      ],
      "execution_count": null,
      "outputs": [
        {
          "output_type": "display_data",
          "data": {
            "text/plain": [
              "<Figure size 600x400 with 1 Axes>"
            ],
            "image/png": "[encoded data removed]"
          },
          "metadata": {}
        }
      ]
    }
  ]
}